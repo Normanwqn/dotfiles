{
 "cells": [
  {
   "cell_type": "code",
   "execution_count": 1,
   "metadata": {},
   "outputs": [],
   "source": [
    "# PACKAGE: DO NOT EDIT THIS CELL\n",
    "import numpy as np\n",
    "import matplotlib\n",
    "matplotlib.use('Agg')\n",
    "import matplotlib.pyplot as plt\n",
    "matplotlib.style.use('fivethirtyeight')\n",
    "from sklearn.datasets import fetch_lfw_people, fetch_olivetti_faces\n",
    "import time\n",
    "import timeit"
   ]
  },
  {
   "cell_type": "code",
   "execution_count": 2,
   "metadata": {},
   "outputs": [],
   "source": [
    "%matplotlib inline\n",
    "from ipywidgets import interact"
   ]
  },
  {
   "cell_type": "code",
   "execution_count": 3,
   "metadata": {},
   "outputs": [
    {
     "name": "stdout",
     "output_type": "stream",
     "text": [
      "Shape of the faces dataset: (4096, 400)\n",
      "400 data points\n"
     ]
    }
   ],
   "source": [
    "image_shape = (64, 64)\n",
    "# Load faces data\n",
    "dataset = fetch_olivetti_faces('./')\n",
    "faces = dataset.data.T\n",
    "\n",
    "print('Shape of the faces dataset: {}'.format(faces.shape))\n",
    "print('{} data points'.format(faces.shape[1]))"
   ]
  },
  {
   "cell_type": "code",
   "execution_count": 4,
   "metadata": {},
   "outputs": [],
   "source": [
    "def show_face(face):\n",
    "    plt.figure()\n",
    "    plt.imshow(face.reshape((64, 64)), cmap='gray')\n",
    "    plt.show()"
   ]
  },
  {
   "cell_type": "code",
   "execution_count": 5,
   "metadata": {},
   "outputs": [
    {
     "data": {
      "application/vnd.jupyter.widget-view+json": {
       "model_id": "e7cf6a0f94d54253b681f56f6393cf58",
       "version_major": 2,
       "version_minor": 0
      },
      "text/plain": [
       "interactive(children=(IntSlider(value=0, description='n', max=399), Output()), _dom_classes=('widget-interact'…"
      ]
     },
     "metadata": {},
     "output_type": "display_data"
    }
   ],
   "source": [
    "@interact(n=(0, faces.shape[1]-1))\n",
    "def display_faces(n=0):\n",
    "    plt.figure()\n",
    "    plt.imshow(faces[:,n].reshape((64, 64)), cmap='gray')\n",
    "    plt.show()"
   ]
  },
  {
   "cell_type": "code",
   "execution_count": 6,
   "metadata": {},
   "outputs": [],
   "source": [
    "def mean_naive(X):\n",
    "    \"Compute the mean for a dataset X nby iterating over the data points\"\n",
    "    # X is of size (D,N) where D is the dimensionality and N the number of data points\n",
    "    D, N = X.shape\n",
    "    mean = np.zeros((D,1))\n",
    "    ### Edit the code; iterate over the dataset and compute the mean vector.\n",
    "    for n in range(N):\n",
    "        # Update the mean vector\n",
    "        mean = mean + X[:,n].reshape(D,1)\n",
    "        pass\n",
    "    ###\n",
    "    mean = mean / N\n",
    "    print(mean)\n",
    "    return mean\n"
   ]
  },
  {
   "cell_type": "code",
   "execution_count": 7,
   "metadata": {},
   "outputs": [],
   "source": [
    "def cov_naive(X):\n",
    "    \"\"\"Compute the covariance for a dataset of size (D,N) \n",
    "    where D is the dimension and N is the number of data points\"\"\"\n",
    "    D, N = X.shape\n",
    "    ### Edit the code below to compute the covariance matrix by iterating over the dataset.\n",
    "    covariance = np.zeros((D, D))\n",
    "    ### Update covariance\n",
    "    mean = mean_naive(X)\n",
    "    for n in range(N):\n",
    "        for i in range(D):\n",
    "            for j in range(D):\n",
    "                covariance[i,j] = covariance[i,j] + faces[i,n]*faces[j,n]\n",
    "                \n",
    "    covariance = covariance / N\n",
    "    ###\n",
    "    return covariance"
   ]
  },
  {
   "cell_type": "code",
   "execution_count": 8,
   "metadata": {},
   "outputs": [],
   "source": [
    "def mean(X):\n",
    "    \"Compute the mean for a dataset of size (D,N) where D is the dimension and N is the number of data points\"\n",
    "    # given a dataset of size (D, N), the mean should be an array of size (D,1)\n",
    "    # you can use np.mean, but pay close attention to the shape of the mean vector you are returning.\n",
    "    D, N = X.shape\n",
    "    ### Edit the code to compute a (D,1) array `mean` for the mean of dataset.\n",
    "    mean = np.zeros((D,1))\n",
    "    ### Update mean here\n",
    "    mean = np.mean(X, axis = 1).reshape(D,1)\n",
    "    ###\n",
    "    return mean"
   ]
  },
  {
   "cell_type": "code",
   "execution_count": null,
   "metadata": {},
   "outputs": [],
   "source": [
    "def cov(X):\n",
    "    \"Compute the covariance for a dataset\"\n",
    "    # X is of size (D,N)\n",
    "    # It is possible to vectorize our code for computing the covariance with matrix multiplications,\n",
    "    # i.e., we do not need to explicitly\n",
    "    # iterate over the entire dataset as looping in Python tends to be slow\n",
    "    # We challenge you to give a vectorized implementation without using np.cov, but if you choose to use np.cov,\n",
    "    # be sure to pass in bias=True.\n",
    "    \n",
    "    ### Edit the code to compute the covariance matrix\n",
    "    \n",
    "    ### Update covariance_matrix here\n",
    "    N, D = X.shape\n",
    "    covariance_matrix = np.zeros((D, D))\n",
    "    x = X - np.ones((N,N))@X * (1/N)\n",
    "    x = np.transpose(x)@x*(1/N)\n",
    "    covariance_matrix = x\n",
    "    ###\n",
    "    return covariance_matrix"
   ]
  },
  {
   "cell_type": "code",
   "execution_count": null,
   "metadata": {},
   "outputs": [
    {
     "name": "stdout",
     "output_type": "stream",
     "text": [
      "X:\n",
      " [[0 1 2]\n",
      " [3 4 5]]\n",
      "Expected mean:\n",
      " [[1.]\n",
      " [4.]]\n",
      "Expected covariance:\n",
      " [[0.66666667 0.66666667]\n",
      " [0.66666667 0.66666667]]\n",
      "Mean\n",
      "[[1.]\n",
      " [4.]]\n",
      "[[1.]\n",
      " [4.]]\n",
      "[[1.]\n",
      " [4.]]\n",
      "co-variance\n",
      "[[2.25 2.25 2.25]\n",
      " [2.25 2.25 2.25]\n",
      " [2.25 2.25 2.25]]\n",
      "[[1.]\n",
      " [4.]]\n",
      "[[0.13463334 0.15187943]\n",
      " [0.15187943 0.17260888]]\n"
     ]
    }
   ],
   "source": [
    "# Let's first test the functions on some hand-crafted dataset.\n",
    "\n",
    "X_test = np.arange(6).reshape(2,3)\n",
    "expected_test_mean = np.array([1., 4.]).reshape(-1, 1)\n",
    "expected_test_cov = np.array([[2/3., 2/3.], [2/3.,2/3.]])\n",
    "print('X:\\n', X_test)\n",
    "print('Expected mean:\\n', expected_test_mean)\n",
    "print('Expected covariance:\\n', expected_test_cov)\n",
    "print('Mean')\n",
    "print(mean(X_test))\n",
    "print(mean_naive(X_test))\n",
    "print('co-variance')\n",
    "print(cov(X_test))\n",
    "print(cov_naive(X_test))\n",
    "\n",
    "##np.testing.assert_almost_equal(mean(X_test), expected_test_mean)\n",
    "##np.testing.assert_almost_equal(mean_naive(X_test), expected_test_mean)\n",
    "\n",
    "##np.testing.assert_almost_equal(cov(X_test), expected_test_cov)\n",
    "##np.testing.assert_almost_equal(cov_naive(X_test), expected_test_cov)"
   ]
  },
  {
   "cell_type": "code",
   "execution_count": null,
   "metadata": {},
   "outputs": [
    {
     "name": "stdout",
     "output_type": "stream",
     "text": [
      "[[0.4001343 ]\n",
      " [0.43423554]\n",
      " [0.47628099]\n",
      " ...\n",
      " [0.32141529]\n",
      " [0.31364669]\n",
      " [0.31045455]]\n",
      "[[0.4001343 ]\n",
      " [0.43423554]\n",
      " [0.47628099]\n",
      " ...\n",
      " [0.32141529]\n",
      " [0.31364669]\n",
      " [0.31045455]]\n"
     ]
    }
   ],
   "source": [
    "np.testing.assert_almost_equal(mean(faces), mean_naive(faces), decimal=6)\n",
    "np.testing.assert_almost_equal(cov(faces), cov_naive(faces))"
   ]
  },
  {
   "cell_type": "code",
   "execution_count": null,
   "metadata": {},
   "outputs": [],
   "source": []
  }
 ],
 "metadata": {
  "kernelspec": {
   "display_name": "Python 3",
   "language": "python",
   "name": "python3"
  },
  "language_info": {
   "codemirror_mode": {
    "name": "ipython",
    "version": 3
   },
   "file_extension": ".py",
   "mimetype": "text/x-python",
   "name": "python",
   "nbconvert_exporter": "python",
   "pygments_lexer": "ipython3",
   "version": "3.7.3"
  }
 },
 "nbformat": 4,
 "nbformat_minor": 2
}
